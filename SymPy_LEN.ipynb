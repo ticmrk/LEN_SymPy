{
 "cells": [
  {
   "cell_type": "markdown",
   "metadata": {},
   "source": [
    "# SymPyでLENのモデルを解く方法"
   ]
  },
  {
   "cell_type": "code",
   "execution_count": 1,
   "metadata": {},
   "outputs": [],
   "source": [
    "%matplotlib inline\n",
    "from sympy import * #SymPyのインポート\n",
    "# to print with mathjax on jupyter notebook\n",
    "init_printing() #jupyter上で綺麗に数式を表示する"
   ]
  },
  {
   "cell_type": "markdown",
   "metadata": {},
   "source": [
    "SymPy上で確率変数を使う場合には，以下のモジュールもインポートしておく．"
   ]
  },
  {
   "cell_type": "code",
   "execution_count": 2,
   "metadata": {},
   "outputs": [],
   "source": [
    "from sympy.stats import *"
   ]
  },
  {
   "cell_type": "markdown",
   "metadata": {},
   "source": [
    "変数の定義をする．\n",
    "- とりあえずシングルタスク．\n",
    "- symbolsを使ってまとめて定義することも可能．\n",
    "    - Symbolで1個ずつ定義した方があとで変更があったときには楽な気がする．"
   ]
  },
  {
   "cell_type": "code",
   "execution_count": 3,
   "metadata": {},
   "outputs": [],
   "source": [
    "e = Symbol('e') #努力\n",
    "alpha = Symbol('alpha') #固定給\n",
    "beta  = Symbol('beta') #インセンティブレート\n",
    "k = Symbol('k') #努力の限界不効用\n",
    "sigma = Symbol('sigma', positive=True) #標準偏差．positive=Trueを指定しておく．\n",
    "epsilon = Normal('varepsilon', 0, sigma) #誤差項（sympy.statsをインポートしておく必要あり）\n",
    "m = Symbol('m') #業績指標の努力感応度\n",
    "b = Symbol('b') #企業価値の努力感応度"
   ]
  },
  {
   "cell_type": "markdown",
   "metadata": {},
   "source": [
    "業績指標，努力コスト，報酬の定義"
   ]
  },
  {
   "cell_type": "code",
   "execution_count": 4,
   "metadata": {},
   "outputs": [
    {
     "data": {
      "image/png": "[encoded data removed]",
      "text/latex": [
       "$$\\left [ e m + \\varepsilon, \\quad \\alpha + \\beta \\left(e m + \\varepsilon\\right), \\quad \\frac{e^{2} k}{2}\\right ]$$"
      ],
      "text/plain": [
       "⎡                                             2  ⎤\n",
       "⎢                                            e ⋅k⎥\n",
       "⎢e⋅m + varepsilon, α + β⋅(e⋅m + varepsilon), ────⎥\n",
       "⎣                                             2  ⎦"
      ]
     },
     "execution_count": 4,
     "metadata": {},
     "output_type": "execute_result"
    }
   ],
   "source": [
    "y = m*e + epsilon #業績指標\n",
    "w = alpha + beta*y #報酬\n",
    "c = Rational(1,2)*k*e**2 #努力コスト．分数はRational（分子,分母)で定義．\n",
    "[y,w,c] #定義できてるかまとめてチェック"
   ]
  },
  {
   "cell_type": "markdown",
   "metadata": {},
   "source": [
    "リスクプレミアムの定義"
   ]
  },
  {
   "cell_type": "code",
   "execution_count": 5,
   "metadata": {},
   "outputs": [
    {
     "data": {
      "image/png": "[encoded data removed]",
      "text/latex": [
       "$$\\frac{\\beta^{2} \\eta}{2} \\sigma^{2}$$"
      ],
      "text/plain": [
       " 2    2\n",
       "β ⋅η⋅σ \n",
       "───────\n",
       "   2   "
      ]
     },
     "execution_count": 5,
     "metadata": {},
     "output_type": "execute_result"
    }
   ],
   "source": [
    "eta = Symbol('eta') #絶対的リスク回避度\n",
    "rp = Rational(1,2)*eta*variance(w) #リスクプレミアム，variance()で分散を導出\n",
    "rp"
   ]
  },
  {
   "cell_type": "markdown",
   "metadata": {},
   "source": [
    "企業価値の定義"
   ]
  },
  {
   "cell_type": "code",
   "execution_count": 6,
   "metadata": {},
   "outputs": [],
   "source": [
    "x = b*e"
   ]
  },
  {
   "cell_type": "markdown",
   "metadata": {},
   "source": [
    "期待効用関数の定義"
   ]
  },
  {
   "cell_type": "code",
   "execution_count": 7,
   "metadata": {},
   "outputs": [
    {
     "data": {
      "image/png": "[encoded data removed]",
      "text/latex": [
       "$$\\left [ - \\alpha + b e - \\beta e m, \\quad \\alpha - \\frac{\\beta^{2} \\eta}{2} \\sigma^{2} + \\beta e m - \\frac{e^{2} k}{2}\\right ]$$"
      ],
      "text/plain": [
       "⎡                       2    2            2  ⎤\n",
       "⎢                      β ⋅η⋅σ            e ⋅k⎥\n",
       "⎢-α + b⋅e - β⋅e⋅m, α - ─────── + β⋅e⋅m - ────⎥\n",
       "⎣                         2               2  ⎦"
      ]
     },
     "execution_count": 7,
     "metadata": {},
     "output_type": "execute_result"
    }
   ],
   "source": [
    "EUp = E(x - w) #プリンシパルの効用\n",
    "EUa = E(w) - c - rp #エージェントの効用\n",
    "[EUp, EUa]"
   ]
  },
  {
   "cell_type": "markdown",
   "metadata": {},
   "source": [
    "## ファースト・ベスト"
   ]
  },
  {
   "cell_type": "markdown",
   "metadata": {},
   "source": [
    "参加制約を満たす固定報酬$\\alpha^{\\ast}$を導出．"
   ]
  },
  {
   "cell_type": "code",
   "execution_count": 8,
   "metadata": {},
   "outputs": [
    {
     "data": {
      "image/png": "[encoded data removed]",
      "text/latex": [
       "$$\\frac{\\beta^{2} \\eta}{2} \\sigma^{2} - \\beta e m + \\frac{e^{2} k}{2}$$"
      ],
      "text/plain": [
       " 2    2            2  \n",
       "β ⋅η⋅σ            e ⋅k\n",
       "─────── - β⋅e⋅m + ────\n",
       "   2               2  "
      ]
     },
     "execution_count": 8,
     "metadata": {},
     "output_type": "execute_result"
    }
   ],
   "source": [
    "alpha_ast = solve(EUa, alpha)[0] #solve(式,変数)で式を変数について解いてくれる．解はリストで得られるので[0]をつけて，中身を取り出す．\n",
    "alpha_ast"
   ]
  },
  {
   "cell_type": "markdown",
   "metadata": {},
   "source": [
    "$\\alpha^{\\ast}$をプリンシパルの期待効用に代入．"
   ]
  },
  {
   "cell_type": "code",
   "execution_count": 9,
   "metadata": {},
   "outputs": [
    {
     "data": {
      "image/png": "[encoded data removed]",
      "text/latex": [
       "$$b e - \\frac{\\beta^{2} \\eta}{2} \\sigma^{2} - \\frac{e^{2} k}{2}$$"
      ],
      "text/plain": [
       "       2    2    2  \n",
       "      β ⋅η⋅σ    e ⋅k\n",
       "b⋅e - ─────── - ────\n",
       "         2       2  "
      ]
     },
     "execution_count": 9,
     "metadata": {},
     "output_type": "execute_result"
    }
   ],
   "source": [
    "EUp_ast = EUp.subs(alpha, alpha_ast) #式.subs(変数,値)で変数に値を代入する\n",
    "EUp_ast"
   ]
  },
  {
   "cell_type": "markdown",
   "metadata": {},
   "source": [
    "プリンシパルの期待効用を最大化するような$e^{\\ast}$を導出．"
   ]
  },
  {
   "cell_type": "code",
   "execution_count": 10,
   "metadata": {},
   "outputs": [
    {
     "data": {
      "image/png": "[encoded data removed]",
      "text/latex": [
       "$$\\frac{b}{k}$$"
      ],
      "text/plain": [
       "b\n",
       "─\n",
       "k"
      ]
     },
     "execution_count": 10,
     "metadata": {},
     "output_type": "execute_result"
    }
   ],
   "source": [
    "e_ast = solve(EUp_ast.diff(e), e)[0]#式.diff(変数)で式を変数で微分する．solve(式.diff(変数),変数)[0]微分した結果をeについて解いて値を取り出す．\n",
    "e_ast"
   ]
  },
  {
   "cell_type": "markdown",
   "metadata": {},
   "source": [
    "プリンシパルの期待効用を最大化するような$\\beta^{\\ast}$を導出．"
   ]
  },
  {
   "cell_type": "code",
   "execution_count": 11,
   "metadata": {},
   "outputs": [
    {
     "data": {
      "image/png": "[encoded data removed]",
      "text/latex": [
       "$$0$$"
      ],
      "text/plain": [
       "0"
      ]
     },
     "execution_count": 11,
     "metadata": {},
     "output_type": "execute_result"
    }
   ],
   "source": [
    "beta_ast = solve(EUp_ast.diff(beta),beta)[0] #式.diff(変数)で式を変数で微分する．solve(式.diff(変数),変数)[0]微分した結果をbetaについて解いて値を取り出す．\n",
    "beta_ast"
   ]
  },
  {
   "cell_type": "markdown",
   "metadata": {},
   "source": [
    "## セカンドベスト"
   ]
  },
  {
   "cell_type": "markdown",
   "metadata": {},
   "source": [
    "エージェントの効用を最大化するような努力水準を計算"
   ]
  },
  {
   "cell_type": "code",
   "execution_count": 12,
   "metadata": {},
   "outputs": [
    {
     "data": {
      "image/png": "[encoded data removed]",
      "text/latex": [
       "$$\\frac{\\beta m}{k}$$"
      ],
      "text/plain": [
       "β⋅m\n",
       "───\n",
       " k "
      ]
     },
     "execution_count": 12,
     "metadata": {},
     "output_type": "execute_result"
    }
   ],
   "source": [
    "e_dag = solve(EUa.diff(e),e)[0]\n",
    "e_dag"
   ]
  },
  {
   "cell_type": "markdown",
   "metadata": {},
   "source": [
    "$e^{\\dag}$をエージェントの確実性等価に代入"
   ]
  },
  {
   "cell_type": "code",
   "execution_count": 13,
   "metadata": {},
   "outputs": [
    {
     "data": {
      "image/png": "[encoded data removed]",
      "text/latex": [
       "$$\\alpha - \\frac{\\beta^{2} \\eta}{2} \\sigma^{2} + \\frac{\\beta^{2} m^{2}}{2 k}$$"
      ],
      "text/plain": [
       "     2    2    2  2\n",
       "    β ⋅η⋅σ    β ⋅m \n",
       "α - ─────── + ─────\n",
       "       2       2⋅k "
      ]
     },
     "execution_count": 13,
     "metadata": {},
     "output_type": "execute_result"
    }
   ],
   "source": [
    "EUa_dag = EUa.subs(e, e_dag)\n",
    "EUa_dag"
   ]
  },
  {
   "cell_type": "markdown",
   "metadata": {},
   "source": [
    "これを$\\alpha$について解く．"
   ]
  },
  {
   "cell_type": "code",
   "execution_count": 14,
   "metadata": {},
   "outputs": [
    {
     "data": {
      "image/png": "[encoded data removed]",
      "text/latex": [
       "$$\\frac{\\beta^{2}}{2 k} \\left(\\eta k \\sigma^{2} - m^{2}\\right)$$"
      ],
      "text/plain": [
       " 2 ⎛     2    2⎞\n",
       "β ⋅⎝η⋅k⋅σ  - m ⎠\n",
       "────────────────\n",
       "      2⋅k       "
      ]
     },
     "execution_count": 14,
     "metadata": {},
     "output_type": "execute_result"
    }
   ],
   "source": [
    "alpha_dag = solve(EUa_dag, alpha)[0]\n",
    "alpha_dag"
   ]
  },
  {
   "cell_type": "markdown",
   "metadata": {},
   "source": [
    "プリンシパルの効用関数に$\\alpha^{\\dag}$と$e^{\\dag}$を代入"
   ]
  },
  {
   "cell_type": "code",
   "execution_count": 15,
   "metadata": {},
   "outputs": [
    {
     "data": {
      "image/png": "[encoded data removed]",
      "text/latex": [
       "$$\\frac{b \\beta}{k} m - \\frac{\\beta^{2} m^{2}}{k} - \\frac{\\beta^{2}}{2 k} \\left(\\eta k \\sigma^{2} - m^{2}\\right)$$"
      ],
      "text/plain": [
       "         2  2    2 ⎛     2    2⎞\n",
       "b⋅β⋅m   β ⋅m    β ⋅⎝η⋅k⋅σ  - m ⎠\n",
       "───── - ───── - ────────────────\n",
       "  k       k           2⋅k       "
      ]
     },
     "execution_count": 15,
     "metadata": {},
     "output_type": "execute_result"
    }
   ],
   "source": [
    "EUp_dag = EUp.subs(alpha, alpha_dag)\n",
    "EUp_dag = EUp_dag.subs(e, e_dag)\n",
    "EUp_dag"
   ]
  },
  {
   "cell_type": "markdown",
   "metadata": {},
   "source": [
    "プリンシパルの期待効用を最大化するような$\\beta$を導出"
   ]
  },
  {
   "cell_type": "code",
   "execution_count": 16,
   "metadata": {},
   "outputs": [
    {
     "data": {
      "image/png": "[encoded data removed]",
      "text/latex": [
       "$$\\frac{b m}{\\eta k \\sigma^{2} + m^{2}}$$"
      ],
      "text/plain": [
       "    b⋅m    \n",
       "───────────\n",
       "     2    2\n",
       "η⋅k⋅σ  + m "
      ]
     },
     "execution_count": 16,
     "metadata": {},
     "output_type": "execute_result"
    }
   ],
   "source": [
    "beta_dag = solve(EUp_dag.diff(beta), beta)[0]\n",
    "beta_dag"
   ]
  },
  {
   "cell_type": "markdown",
   "metadata": {},
   "source": [
    "プリンシパルの期待効用に代入"
   ]
  },
  {
   "cell_type": "code",
   "execution_count": 17,
   "metadata": {},
   "outputs": [
    {
     "data": {
      "image/png": "[encoded data removed]",
      "text/latex": [
       "$$- \\frac{b^{2} m^{4}}{k \\left(\\eta k \\sigma^{2} + m^{2}\\right)^{2}} - \\frac{b^{2} m^{2} \\left(\\eta k \\sigma^{2} - m^{2}\\right)}{2 k \\left(\\eta k \\sigma^{2} + m^{2}\\right)^{2}} + \\frac{b^{2} m^{2}}{k \\left(\\eta k \\sigma^{2} + m^{2}\\right)}$$"
      ],
      "text/plain": [
       "        2  4          2  2 ⎛     2    2⎞         2  2     \n",
       "       b ⋅m          b ⋅m ⋅⎝η⋅k⋅σ  - m ⎠        b ⋅m      \n",
       "- ──────────────── - ─────────────────── + ───────────────\n",
       "                 2                     2     ⎛     2    2⎞\n",
       "    ⎛     2    2⎞         ⎛     2    2⎞    k⋅⎝η⋅k⋅σ  + m ⎠\n",
       "  k⋅⎝η⋅k⋅σ  + m ⎠     2⋅k⋅⎝η⋅k⋅σ  + m ⎠                   "
      ]
     },
     "execution_count": 17,
     "metadata": {},
     "output_type": "execute_result"
    }
   ],
   "source": [
    "EUp_dagger = EUp_dag.subs(beta, beta_dag)\n",
    "EUp_dagger"
   ]
  },
  {
   "cell_type": "code",
   "execution_count": 18,
   "metadata": {},
   "outputs": [
    {
     "data": {
      "image/png": "[encoded data removed]",
      "text/latex": [
       "$$\\frac{b^{2} m^{2}}{2 k \\left(\\eta k \\sigma^{2} + m^{2}\\right)}$$"
      ],
      "text/plain": [
       "       2  2      \n",
       "      b ⋅m       \n",
       "─────────────────\n",
       "    ⎛     2    2⎞\n",
       "2⋅k⋅⎝η⋅k⋅σ  + m ⎠"
      ]
     },
     "execution_count": 18,
     "metadata": {},
     "output_type": "execute_result"
    }
   ],
   "source": [
    "EUp_dagger = simplify(EUp_dagger) #複雑なのでsimplify()で単純化する\n",
    "EUp_dagger"
   ]
  },
  {
   "cell_type": "markdown",
   "metadata": {},
   "source": [
    "### 比較静学"
   ]
  },
  {
   "cell_type": "code",
   "execution_count": 19,
   "metadata": {},
   "outputs": [
    {
     "data": {
      "image/png": "[encoded data removed]",
      "text/latex": [
       "$$\\frac{b^{2} \\eta m \\sigma^{2}}{\\left(\\eta k \\sigma^{2} + m^{2}\\right)^{2}}$$"
      ],
      "text/plain": [
       "   2      2   \n",
       "  b ⋅η⋅m⋅σ    \n",
       "──────────────\n",
       "             2\n",
       "⎛     2    2⎞ \n",
       "⎝η⋅k⋅σ  + m ⎠ "
      ]
     },
     "execution_count": 19,
     "metadata": {},
     "output_type": "execute_result"
    }
   ],
   "source": [
    "simplify(EUp_dagger.diff(m))"
   ]
  },
  {
   "cell_type": "code",
   "execution_count": 20,
   "metadata": {},
   "outputs": [
    {
     "data": {
      "image/png": "[encoded data removed]",
      "text/latex": [
       "$$- \\frac{b^{2} \\eta m^{2} \\sigma}{\\left(\\eta k \\sigma^{2} + m^{2}\\right)^{2}}$$"
      ],
      "text/plain": [
       "   2    2     \n",
       " -b ⋅η⋅m ⋅σ   \n",
       "──────────────\n",
       "             2\n",
       "⎛     2    2⎞ \n",
       "⎝η⋅k⋅σ  + m ⎠ "
      ]
     },
     "execution_count": 20,
     "metadata": {},
     "output_type": "execute_result"
    }
   ],
   "source": [
    "simplify(EUp_dagger.diff(sigma))"
   ]
  },
  {
   "cell_type": "code",
   "execution_count": 21,
   "metadata": {},
   "outputs": [
    {
     "data": {
      "image/png": "[encoded data removed]",
      "text/latex": [
       "$$- \\frac{b^{2} m^{2} \\sigma^{2}}{2 \\left(\\eta k \\sigma^{2} + m^{2}\\right)^{2}}$$"
      ],
      "text/plain": [
       "     2  2  2    \n",
       "   -b ⋅m ⋅σ     \n",
       "────────────────\n",
       "               2\n",
       "  ⎛     2    2⎞ \n",
       "2⋅⎝η⋅k⋅σ  + m ⎠ "
      ]
     },
     "execution_count": 21,
     "metadata": {},
     "output_type": "execute_result"
    }
   ],
   "source": [
    "simplify(EUp_dagger.diff(eta))"
   ]
  },
  {
   "cell_type": "code",
   "execution_count": null,
   "metadata": {},
   "outputs": [],
   "source": []
  }
 ],
 "metadata": {
  "kernelspec": {
   "display_name": "Python 3",
   "language": "python",
   "name": "python3"
  },
  "language_info": {
   "codemirror_mode": {
    "name": "ipython",
    "version": 3
   },
   "file_extension": ".py",
   "mimetype": "text/x-python",
   "name": "python",
   "nbconvert_exporter": "python",
   "pygments_lexer": "ipython3",
   "version": "3.6.4"
  }
 },
 "nbformat": 4,
 "nbformat_minor": 2
}
